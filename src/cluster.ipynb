{
 "cells": [
  {
   "cell_type": "code",
   "execution_count": 1,
   "id": "619ce8dc-c6aa-4bdc-9b14-288ae5d26073",
   "metadata": {
    "tags": []
   },
   "outputs": [
    {
     "name": "stdout",
     "output_type": "stream",
     "text": [
      "   0        1        2   3           4\n",
      "0  1  2268318  2520377  pv  1511544070\n",
      "1  1  2333346  2520771  pv  1511561733\n",
      "2  1  2576651   149192  pv  1511572885\n",
      "3  1  3830808  4181361  pv  1511593493\n",
      "4  1  4365585  2520377  pv  1511596146\n",
      "5  1  4606018  2735466  pv  1511616481\n",
      "6  1   230380   411153  pv  1511644942\n",
      "7  1  3827899  2920476  pv  1511713473\n",
      "8  1  3745169  2891509  pv  1511725471\n",
      "9  1  1531036  2920476  pv  1511733732\n"
     ]
    }
   ],
   "source": [
    "# very slow\n",
    "import pandas as pd\n",
    "path = 'UserBehavior.csv'\n",
    "df = pd.read_csv(path, encoding='utf-8', sep=',', header=None)\n",
    "print(df[:10])"
   ]
  },
  {
   "cell_type": "code",
   "execution_count": 9,
   "id": "ce189106-aacc-4195-990a-f799b0928497",
   "metadata": {},
   "outputs": [],
   "source": [
    "import numpy as np\n",
    "def getActionType(act):\n",
    "    if act == 'pv':\n",
    "        return 0\n",
    "    if act == 'buy':\n",
    "        return 1\n",
    "    if act == 'cart':\n",
    "        return 2\n",
    "    if act == 'fav':\n",
    "        return 3\n",
    "    \n",
    "    \n",
    "def getUserActionArr(data):\n",
    "    userID = data[0][0]\n",
    "    userActions =  np.zeros((988255,4))\n",
    "    userCnt = 0\n",
    "    for i in range(len(data)):\n",
    "        if data[i][0] != userID:\n",
    "            userID = data[i][0]\n",
    "            userCnt += 1\n",
    "        if data[i][0] == userID:\n",
    "            actionType = getActionType(data[i][3])\n",
    "            userActions[userCnt][actionType] += 1\n",
    "            \n",
    "    return userActions, userCnt"
   ]
  },
  {
   "cell_type": "code",
   "execution_count": 3,
   "id": "a52a8b83-0256-4184-a5fb-ba693b7ae893",
   "metadata": {},
   "outputs": [],
   "source": [
    "# very slow, data size = 100150807\n",
    "data = df.values"
   ]
  },
  {
   "cell_type": "code",
   "execution_count": 11,
   "id": "36755a5e-c991-4e95-b8d4-ea6c1544959f",
   "metadata": {},
   "outputs": [
    {
     "name": "stdout",
     "output_type": "stream",
     "text": [
      "0\n",
      "100000000\n",
      "988255\n",
      "[[55.  0.  0.  0.]\n",
      " [84.  8.  0.  6.]\n",
      " [67.  0.  2. 12.]]\n"
     ]
    }
   ],
   "source": [
    "# # very slow\n",
    "userActions, userCnt = getUserActionArr(data)\n",
    "print(userCnt)# 988255\n",
    "print(userActions[:3])"
   ]
  },
  {
   "cell_type": "code",
   "execution_count": 42,
   "id": "3e7b1720-258c-4a5d-8448-07a3ac20a8a9",
   "metadata": {},
   "outputs": [],
   "source": [
    "from sklearn.cluster import KMeans\n",
    "import matplotlib.pyplot as plt\n",
    "X = userActions[:988255]\n",
    "y_pred = KMeans(n_clusters=5, random_state=9).fit_predict(X)"
   ]
  },
  {
   "cell_type": "code",
   "execution_count": null,
   "id": "b3bb0eb4-c22d-43de-8b65-31215a3b0417",
   "metadata": {},
   "outputs": [
    {
     "data": {
      "image/png": "[encoded data removed]",
      "text/plain": [
       "<Figure size 432x288 with 1 Axes>"
      ]
     },
     "metadata": {
      "needs_background": "light"
     },
     "output_type": "display_data"
    }
   ],
   "source": [
    "plt.scatter(X[:, 0], X[:, 1], X[:, 2],  c=y_pred)\n",
    "plt.show()"
   ]
  },
  {
   "cell_type": "code",
   "execution_count": 56,
   "id": "b282796d-6108-48fb-9739-47a600115bca",
   "metadata": {},
   "outputs": [
    {
     "name": "stdout",
     "output_type": "stream",
     "text": [
      "[Cluster 1] size: 81363, mean: [237.60285388   3.27007362  11.67042759   7.33080147]\n",
      "[Cluster 2] size: 292888, mean: [80.887486    2.10707165  5.62894349  2.66786963]\n",
      "[Cluster 3] size: 24527, mean: [382.24556611   3.62107066  14.51836751   9.61731969]\n",
      "[Cluster 4] size: 421269, mean: [30.02420781  1.39773399  2.68409259  1.14751857]\n",
      "[Cluster 5] size: 168208, mean: [146.66102088   2.70500214   8.59315253   4.70318891]\n"
     ]
    }
   ],
   "source": [
    "X_0 = X[np.where(y_pred==0)]\n",
    "X_1 = X[np.where(y_pred==1)]\n",
    "X_2 = X[np.where(y_pred==2)]\n",
    "X_3 = X[np.where(y_pred==3)]\n",
    "X_4 = X[np.where(y_pred==4)]\n",
    "XArr = [X_0, X_1, X_2, X_3, X_4]\n",
    "\n",
    "\n",
    "mean_0 = np.mean(X_0, axis=0)\n",
    "mean_1 = np.mean(X_1, axis=0)\n",
    "mean_2 = np.mean(X_2, axis=0)\n",
    "mean_3 = np.mean(X_3, axis=0)\n",
    "mean_4 = np.mean(X_4, axis=0)\n",
    "meanArr = [mean_0, mean_1, mean_2, mean_3, mean_4]\n",
    "\n",
    "for i in range(5):\n",
    "    print('[Cluster %d] size: %d, mean: %s' % (i+1, len(XArr[i]), str(meanArr[i])))"
   ]
  },
  {
   "cell_type": "code",
   "execution_count": null,
   "id": "d76234d2-2973-43d5-b47d-7d0b6b0d1efc",
   "metadata": {},
   "outputs": [],
   "source": []
  }
 ],
 "metadata": {
  "kernelspec": {
   "display_name": "Python 3 (ipykernel)",
   "language": "python",
   "name": "python3"
  },
  "language_info": {
   "codemirror_mode": {
    "name": "ipython",
    "version": 3
   },
   "file_extension": ".py",
   "mimetype": "text/x-python",
   "name": "python",
   "nbconvert_exporter": "python",
   "pygments_lexer": "ipython3",
   "version": "3.9.7"
  }
 },
 "nbformat": 4,
 "nbformat_minor": 5
}
