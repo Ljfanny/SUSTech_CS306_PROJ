{
 "cells": [
  {
   "cell_type": "code",
   "execution_count": 1,
   "metadata": {},
   "outputs": [],
   "source": [
    "import numpy as np\n",
    "import pandas as pd\n",
    "import time\n",
    "from matplotlib import pyplot as plt\n",
    "import gc\n",
    "import warnings\n",
    "from datetime import datetime"
   ]
  },
  {
   "cell_type": "markdown",
   "metadata": {},
   "source": [
    "# 1.源数据的读取"
   ]
  },
  {
   "cell_type": "code",
   "execution_count": 3,
   "metadata": {},
   "outputs": [],
   "source": [
    "df_origin = pd.read_csv('../UserBehavior.csv')"
   ]
  },
  {
   "cell_type": "markdown",
   "metadata": {},
   "source": [
    "# 2.源数据补全列名，打印信息"
   ]
  },
  {
   "cell_type": "code",
   "execution_count": 15,
   "metadata": {},
   "outputs": [
    {
     "name": "stdout",
     "output_type": "stream",
     "text": [
      "<class 'pandas.core.frame.DataFrame'>\n",
      "RangeIndex: 100150806 entries, 0 to 100150805\n",
      "Data columns (total 5 columns):\n",
      " #   Column        Dtype \n",
      "---  ------        ----- \n",
      " 0   UserID        int64 \n",
      " 1   ItemID        int64 \n",
      " 2   CatogoryID    int64 \n",
      " 3   BehaviorType  object\n",
      " 4   TimeStamps    int64 \n",
      "dtypes: int64(4), object(1)\n",
      "memory usage: 3.7+ GB\n"
     ]
    }
   ],
   "source": [
    "df_origin.columns = ['UserID', 'ItemID', 'CatogoryID', 'BehaviorType', 'TimeStamps']\n",
    "df_origin.info()"
   ]
  },
  {
   "cell_type": "markdown",
   "metadata": {},
   "source": [
    "# 3.取样100w条数据进行便于后续分析"
   ]
  },
  {
   "cell_type": "code",
   "execution_count": 13,
   "metadata": {},
   "outputs": [],
   "source": [
    "\n",
    "df_Second = df_origin.dropna()\n",
    "df_Second = df_Second.drop_duplicates(subset=['UserID', 'ItemID', 'TimeStamps'])\n",
    "df_Second = df_Second.sample(frac=0.01, random_state=1)\n",
    "df_Second.to_csv('../UserBehavior-2.csv')\n"
   ]
  },
  {
   "cell_type": "markdown",
   "metadata": {},
   "source": [
    "# 4.提高时间信息的可读性"
   ]
  },
  {
   "cell_type": "code",
   "execution_count": 38,
   "metadata": {},
   "outputs": [
    {
     "data": {
      "text/html": [
       "<div>\n",
       "<style scoped>\n",
       "    .dataframe tbody tr th:only-of-type {\n",
       "        vertical-align: middle;\n",
       "    }\n",
       "\n",
       "    .dataframe tbody tr th {\n",
       "        vertical-align: top;\n",
       "    }\n",
       "\n",
       "    .dataframe thead th {\n",
       "        text-align: right;\n",
       "    }\n",
       "</style>\n",
       "<table border=\"1\" class=\"dataframe\">\n",
       "  <thead>\n",
       "    <tr style=\"text-align: right;\">\n",
       "      <th></th>\n",
       "      <th>UserID</th>\n",
       "      <th>ItemID</th>\n",
       "      <th>CatogoryID</th>\n",
       "      <th>BehaviorType</th>\n",
       "      <th>weekday</th>\n",
       "      <th>date</th>\n",
       "      <th>hour</th>\n",
       "    </tr>\n",
       "  </thead>\n",
       "  <tbody>\n",
       "    <tr>\n",
       "      <th>0</th>\n",
       "      <td>205131</td>\n",
       "      <td>2664389</td>\n",
       "      <td>1320293</td>\n",
       "      <td>pv</td>\n",
       "      <td>Monday</td>\n",
       "      <td>2017-11-27</td>\n",
       "      <td>night</td>\n",
       "    </tr>\n",
       "    <tr>\n",
       "      <th>1</th>\n",
       "      <td>808910</td>\n",
       "      <td>2619425</td>\n",
       "      <td>2355072</td>\n",
       "      <td>pv</td>\n",
       "      <td>Sunday</td>\n",
       "      <td>2017-11-26</td>\n",
       "      <td>afternoon</td>\n",
       "    </tr>\n",
       "    <tr>\n",
       "      <th>2</th>\n",
       "      <td>92422</td>\n",
       "      <td>5062111</td>\n",
       "      <td>3138705</td>\n",
       "      <td>pv</td>\n",
       "      <td>Sunday</td>\n",
       "      <td>2017-11-26</td>\n",
       "      <td>morning</td>\n",
       "    </tr>\n",
       "    <tr>\n",
       "      <th>3</th>\n",
       "      <td>901476</td>\n",
       "      <td>1632442</td>\n",
       "      <td>2013232</td>\n",
       "      <td>pv</td>\n",
       "      <td>Monday</td>\n",
       "      <td>2017-11-27</td>\n",
       "      <td>morning</td>\n",
       "    </tr>\n",
       "    <tr>\n",
       "      <th>4</th>\n",
       "      <td>49272</td>\n",
       "      <td>2371018</td>\n",
       "      <td>3184456</td>\n",
       "      <td>pv</td>\n",
       "      <td>Sunday</td>\n",
       "      <td>2017-12-03</td>\n",
       "      <td>afternoon</td>\n",
       "    </tr>\n",
       "  </tbody>\n",
       "</table>\n",
       "</div>"
      ],
      "text/plain": [
       "   UserID   ItemID  CatogoryID BehaviorType weekday       date       hour\n",
       "0  205131  2664389     1320293           pv  Monday 2017-11-27      night\n",
       "1  808910  2619425     2355072           pv  Sunday 2017-11-26  afternoon\n",
       "2   92422  5062111     3138705           pv  Sunday 2017-11-26    morning\n",
       "3  901476  1632442     2013232           pv  Monday 2017-11-27    morning\n",
       "4   49272  2371018     3184456           pv  Sunday 2017-12-03  afternoon"
      ]
     },
     "execution_count": 38,
     "metadata": {},
     "output_type": "execute_result"
    }
   ],
   "source": [
    "df_Second = pd.read_csv('../UserBehavior-2.csv')\n",
    "startTime = time.mktime(time.strptime(\"2017-11-25 00:00:00\", \"%Y-%m-%d %H:%M:%S\"))\n",
    "endTime = time.mktime(time.strptime(\"2017-12-3 23:59:59\", \"%Y-%m-%d %H:%M:%S\"))\n",
    "df_Second = df_Second.loc[(df_Second['TimeStamps'] >= startTime) & (df_Second['TimeStamps'] <= endTime)]\n",
    "\n",
    "\n",
    "df_Second[\"time\"] = df_Second[\"TimeStamps\"].apply(lambda x: time.strftime('%Y-%m-%d %H:%M:%S', time.localtime(x)))\n",
    "df_Second['weekday'] = pd.to_datetime(df_Second['time'], format=\"%Y-%m-%d %H:%M:%S\").dt.day_name()\n",
    "df_Second['date'] = df_Second['time'].str[0:10]\n",
    "df_Second['date'] = pd.to_datetime(df_Second['date'], format='%Y-%m-%d')\n",
    "df_Second['time'] = df_Second['time'].str[11:13]\n",
    "df_Second['time'] = df_Second['time'].astype(int)\n",
    "df_Second['hour'] = pd.cut(df_Second['time'], bins=[-1, 5, 10, 13, 18, 24], labels=['morning', 'forenoon', 'noon', 'afternoon', 'night'])\n",
    "df_Second = df_Second.drop(columns=['time'])\n",
    "df_Second.drop(labels=['Unnamed: 0','TimeStamps'],axis=1,inplace=True)\n",
    "\n",
    "df_Second.head()"
   ]
  },
  {
   "cell_type": "markdown",
   "metadata": {},
   "source": [
    "# 5.数据验证"
   ]
  },
  {
   "cell_type": "code",
   "execution_count": 35,
   "metadata": {},
   "outputs": [
    {
     "name": "stdout",
     "output_type": "stream",
     "text": [
      "True\n",
      "UserID          False\n",
      "ItemID          False\n",
      "CatogoryID      False\n",
      "BehaviorType    False\n",
      "weekday         False\n",
      "date            False\n",
      "hour            False\n",
      "dtype: bool\n",
      "2017-08-06 00:00:00\n",
      "2017-12-03 00:00:00\n"
     ]
    }
   ],
   "source": [
    "print(df_Second.duplicated().any())\n",
    "print(df_Second.isnull().any())\n",
    "print(df_Second.date.min())\n",
    "print(df_Second.date.max())"
   ]
  },
  {
   "cell_type": "code",
   "execution_count": 46,
   "metadata": {},
   "outputs": [
    {
     "data": {
      "text/plain": [
       "BehaviorType\n",
       "buy      3.356369\n",
       "cart     8.762414\n",
       "fav      4.418669\n",
       "pv      83.462548\n",
       "Name: UserID, dtype: float64"
      ]
     },
     "execution_count": 46,
     "metadata": {},
     "output_type": "execute_result"
    },
    {
     "data": {
      "image/png": "[encoded data removed]",
      "text/plain": [
       "<Figure size 432x288 with 1 Axes>"
      ]
     },
     "metadata": {
      "needs_background": "light"
     },
     "output_type": "display_data"
    }
   ],
   "source": [
    "bt_persent = df_Second.groupby(by='BehaviorType')['UserID'].nunique() / df_Second.groupby(by='BehaviorType')['UserID'].nunique().sum()*100\n",
    "plt.bar(bt_persent.index,bt_persent.values)\n",
    "bt_persent"
   ]
  }
 ],
 "metadata": {
  "interpreter": {
   "hash": "b3ba2566441a7c06988d0923437866b63cedc61552a5af99d1f4fb67d367b25f"
  },
  "kernelspec": {
   "display_name": "Python 3.9.7 ('base')",
   "language": "python",
   "name": "python3"
  },
  "language_info": {
   "codemirror_mode": {
    "name": "ipython",
    "version": 3
   },
   "file_extension": ".py",
   "mimetype": "text/x-python",
   "name": "python",
   "nbconvert_exporter": "python",
   "pygments_lexer": "ipython3",
   "version": "3.9.7"
  },
  "orig_nbformat": 4
 },
 "nbformat": 4,
 "nbformat_minor": 2
}
