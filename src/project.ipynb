{
 "cells": [
  {
   "cell_type": "code",
   "execution_count": 59,
   "metadata": {},
   "outputs": [],
   "source": [
    "import numpy as np\n",
    "import pandas as pd\n",
    "import time\n",
    "from matplotlib import pyplot as plt\n",
    "import gc\n",
    "import warnings\n",
    "from datetime import datetime"
   ]
  },
  {
   "cell_type": "markdown",
   "metadata": {},
   "source": [
    "# 1.源数据的读取"
   ]
  },
  {
   "cell_type": "code",
   "execution_count": 60,
   "metadata": {},
   "outputs": [],
   "source": [
    "df_origin = pd.read_csv('../UserBehavior.csv')"
   ]
  },
  {
   "cell_type": "markdown",
   "metadata": {},
   "source": [
    "# 2.源数据补全列名，打印信息"
   ]
  },
  {
   "cell_type": "code",
   "execution_count": 61,
   "metadata": {},
   "outputs": [
    {
     "name": "stdout",
     "output_type": "stream",
     "text": [
      "<class 'pandas.core.frame.DataFrame'>\n",
      "RangeIndex: 100150806 entries, 0 to 100150805\n",
      "Data columns (total 5 columns):\n",
      " #   Column        Dtype \n",
      "---  ------        ----- \n",
      " 0   UserID        int64 \n",
      " 1   ItemID        int64 \n",
      " 2   CatogoryID    int64 \n",
      " 3   BehaviorType  object\n",
      " 4   TimeStamps    int64 \n",
      "dtypes: int64(4), object(1)\n",
      "memory usage: 3.7+ GB\n"
     ]
    }
   ],
   "source": [
    "df_origin.columns = ['UserID', 'ItemID', 'CatogoryID', 'BehaviorType', 'TimeStamps']\n",
    "df_origin.info()"
   ]
  },
  {
   "cell_type": "markdown",
   "metadata": {},
   "source": [
    "# 3.取百分之一用户的数据便于后续分析"
   ]
  },
  {
   "cell_type": "code",
   "execution_count": 62,
   "metadata": {},
   "outputs": [],
   "source": [
    "\n",
    "df_Second = df_origin.dropna()\n",
    "df_Second = df_Second.drop_duplicates(subset=['UserID', 'ItemID', 'TimeStamps'])\n",
    "# select 1/100 user data\n",
    "df_Second = df_Second[df_Second['UserID'] % 100 == 0]\n",
    "df_Second.to_csv('../UserBehavior-2.csv')\n"
   ]
  },
  {
   "cell_type": "markdown",
   "metadata": {},
   "source": [
    "# 4.提高时间信息的可读性"
   ]
  },
  {
   "cell_type": "code",
   "execution_count": 63,
   "metadata": {},
   "outputs": [
    {
     "data": {
      "text/html": [
       "<div>\n",
       "<style scoped>\n",
       "    .dataframe tbody tr th:only-of-type {\n",
       "        vertical-align: middle;\n",
       "    }\n",
       "\n",
       "    .dataframe tbody tr th {\n",
       "        vertical-align: top;\n",
       "    }\n",
       "\n",
       "    .dataframe thead th {\n",
       "        text-align: right;\n",
       "    }\n",
       "</style>\n",
       "<table border=\"1\" class=\"dataframe\">\n",
       "  <thead>\n",
       "    <tr style=\"text-align: right;\">\n",
       "      <th></th>\n",
       "      <th>Unnamed: 0</th>\n",
       "      <th>UserID</th>\n",
       "      <th>ItemID</th>\n",
       "      <th>CatogoryID</th>\n",
       "      <th>BehaviorType</th>\n",
       "      <th>TimeStamps</th>\n",
       "      <th>weekday</th>\n",
       "      <th>date</th>\n",
       "      <th>hour</th>\n",
       "    </tr>\n",
       "  </thead>\n",
       "  <tbody>\n",
       "    <tr>\n",
       "      <th>0</th>\n",
       "      <td>54</td>\n",
       "      <td>100</td>\n",
       "      <td>4572582</td>\n",
       "      <td>2188684</td>\n",
       "      <td>pv</td>\n",
       "      <td>1511550516</td>\n",
       "      <td>Saturday</td>\n",
       "      <td>2017-11-25</td>\n",
       "      <td>morning</td>\n",
       "    </tr>\n",
       "    <tr>\n",
       "      <th>1</th>\n",
       "      <td>55</td>\n",
       "      <td>100</td>\n",
       "      <td>2971043</td>\n",
       "      <td>4869428</td>\n",
       "      <td>pv</td>\n",
       "      <td>1511550600</td>\n",
       "      <td>Saturday</td>\n",
       "      <td>2017-11-25</td>\n",
       "      <td>morning</td>\n",
       "    </tr>\n",
       "    <tr>\n",
       "      <th>2</th>\n",
       "      <td>56</td>\n",
       "      <td>100</td>\n",
       "      <td>2379198</td>\n",
       "      <td>4869428</td>\n",
       "      <td>pv</td>\n",
       "      <td>1511550806</td>\n",
       "      <td>Saturday</td>\n",
       "      <td>2017-11-25</td>\n",
       "      <td>morning</td>\n",
       "    </tr>\n",
       "    <tr>\n",
       "      <th>3</th>\n",
       "      <td>57</td>\n",
       "      <td>100</td>\n",
       "      <td>2971043</td>\n",
       "      <td>4869428</td>\n",
       "      <td>pv</td>\n",
       "      <td>1511550885</td>\n",
       "      <td>Saturday</td>\n",
       "      <td>2017-11-25</td>\n",
       "      <td>morning</td>\n",
       "    </tr>\n",
       "    <tr>\n",
       "      <th>4</th>\n",
       "      <td>58</td>\n",
       "      <td>100</td>\n",
       "      <td>1220136</td>\n",
       "      <td>4869428</td>\n",
       "      <td>pv</td>\n",
       "      <td>1511550908</td>\n",
       "      <td>Saturday</td>\n",
       "      <td>2017-11-25</td>\n",
       "      <td>morning</td>\n",
       "    </tr>\n",
       "  </tbody>\n",
       "</table>\n",
       "</div>"
      ],
      "text/plain": [
       "   Unnamed: 0  UserID   ItemID  CatogoryID BehaviorType  TimeStamps   weekday  \\\n",
       "0          54     100  4572582     2188684           pv  1511550516  Saturday   \n",
       "1          55     100  2971043     4869428           pv  1511550600  Saturday   \n",
       "2          56     100  2379198     4869428           pv  1511550806  Saturday   \n",
       "3          57     100  2971043     4869428           pv  1511550885  Saturday   \n",
       "4          58     100  1220136     4869428           pv  1511550908  Saturday   \n",
       "\n",
       "        date     hour  \n",
       "0 2017-11-25  morning  \n",
       "1 2017-11-25  morning  \n",
       "2 2017-11-25  morning  \n",
       "3 2017-11-25  morning  \n",
       "4 2017-11-25  morning  "
      ]
     },
     "execution_count": 63,
     "metadata": {},
     "output_type": "execute_result"
    }
   ],
   "source": [
    "df_Second = pd.read_csv('../UserBehavior-2.csv')\n",
    "startTime = time.mktime(time.strptime(\"2017-11-25 00:00:00\", \"%Y-%m-%d %H:%M:%S\"))\n",
    "endTime = time.mktime(time.strptime(\"2017-12-3 23:59:59\", \"%Y-%m-%d %H:%M:%S\"))\n",
    "df_Second = df_Second.loc[(df_Second['TimeStamps'] >= startTime) & (df_Second['TimeStamps'] <= endTime)]\n",
    "\n",
    "\n",
    "df_Second[\"time\"] = df_Second[\"TimeStamps\"].apply(lambda x: time.strftime('%Y-%m-%d %H:%M:%S', time.localtime(x)))\n",
    "df_Second['weekday'] = pd.to_datetime(df_Second['time'], format=\"%Y-%m-%d %H:%M:%S\").dt.day_name()\n",
    "df_Second['date'] = df_Second['time'].str[0:10]\n",
    "df_Second['date'] = pd.to_datetime(df_Second['date'], format='%Y-%m-%d')\n",
    "df_Second['time'] = df_Second['time'].str[11:13]\n",
    "df_Second['time'] = df_Second['time'].astype(int)\n",
    "df_Second['hour'] = pd.cut(df_Second['time'], bins=[-1, 5, 10, 13, 18, 24], labels=['morning', 'forenoon', 'noon', 'afternoon', 'night'])\n",
    "df_Second = df_Second.drop(columns=['time'])\n",
    "\n",
    "df_Second.head()"
   ]
  },
  {
   "cell_type": "markdown",
   "metadata": {},
   "source": [
    "# 5.数据验证"
   ]
  },
  {
   "cell_type": "code",
   "execution_count": 64,
   "metadata": {},
   "outputs": [
    {
     "name": "stdout",
     "output_type": "stream",
     "text": [
      "False\n",
      "Unnamed: 0      False\n",
      "UserID          False\n",
      "ItemID          False\n",
      "CatogoryID      False\n",
      "BehaviorType    False\n",
      "TimeStamps      False\n",
      "weekday         False\n",
      "date            False\n",
      "hour            False\n",
      "dtype: bool\n",
      "2017-11-25 00:00:00\n",
      "2017-12-03 00:00:00\n"
     ]
    }
   ],
   "source": [
    "print(df_Second.duplicated().any())\n",
    "print(df_Second.isnull().any())\n",
    "print(df_Second.date.min())\n",
    "print(df_Second.date.max())"
   ]
  },
  {
   "cell_type": "code",
   "execution_count": 65,
   "metadata": {},
   "outputs": [
    {
     "data": {
      "text/plain": [
       "BehaviorType\n",
       "buy     23.991683\n",
       "cart    26.777328\n",
       "fav     13.913885\n",
       "pv      35.317105\n",
       "Name: UserID, dtype: float64"
      ]
     },
     "execution_count": 65,
     "metadata": {},
     "output_type": "execute_result"
    },
    {
     "data": {
      "image/png": "[encoded data removed]",
      "text/plain": [
       "<Figure size 432x288 with 1 Axes>"
      ]
     },
     "metadata": {
      "needs_background": "light"
     },
     "output_type": "display_data"
    }
   ],
   "source": [
    "bt_persent = df_Second.groupby(by='BehaviorType')['UserID'].nunique() / df_Second.groupby(by='BehaviorType')['UserID'].nunique().sum()*100\n",
    "plt.bar(bt_persent.index,bt_persent.values)\n",
    "bt_persent"
   ]
  },
  {
   "cell_type": "markdown",
   "metadata": {
    "collapsed": false
   },
   "source": [
    "# 6.用户行为分析"
   ]
  },
  {
   "cell_type": "code",
   "execution_count": 66,
   "metadata": {
    "collapsed": false,
    "pycharm": {
     "name": "#%%\n"
    }
   },
   "outputs": [
    {
     "data": {
      "image/png": "[encoded data removed]",
      "text/plain": [
       "<Figure size 864x432 with 1 Axes>"
      ]
     },
     "metadata": {
      "needs_background": "light"
     },
     "output_type": "display_data"
    },
    {
     "data": {
      "image/png": "[encoded data removed]",
      "text/plain": [
       "<Figure size 864x432 with 1 Axes>"
      ]
     },
     "metadata": {
      "needs_background": "light"
     },
     "output_type": "display_data"
    },
    {
     "data": {
      "image/png": "[encoded data removed]",
      "text/plain": [
       "<Figure size 864x432 with 1 Axes>"
      ]
     },
     "metadata": {
      "needs_background": "light"
     },
     "output_type": "display_data"
    },
    {
     "data": {
      "image/png": "[encoded data removed]",
      "text/plain": [
       "<Figure size 864x432 with 1 Axes>"
      ]
     },
     "metadata": {
      "needs_background": "light"
     },
     "output_type": "display_data"
    },
    {
     "data": {
      "text/html": [
       "<div>\n",
       "<style scoped>\n",
       "    .dataframe tbody tr th:only-of-type {\n",
       "        vertical-align: middle;\n",
       "    }\n",
       "\n",
       "    .dataframe tbody tr th {\n",
       "        vertical-align: top;\n",
       "    }\n",
       "\n",
       "    .dataframe thead th {\n",
       "        text-align: right;\n",
       "    }\n",
       "</style>\n",
       "<table border=\"1\" class=\"dataframe\">\n",
       "  <thead>\n",
       "    <tr style=\"text-align: right;\">\n",
       "      <th></th>\n",
       "      <th>UserID</th>\n",
       "      <th>MostPvCatogory</th>\n",
       "      <th>MostFavCatogory</th>\n",
       "      <th>MostCartCatogory</th>\n",
       "      <th>MostBuyCatogory</th>\n",
       "    </tr>\n",
       "  </thead>\n",
       "  <tbody>\n",
       "    <tr>\n",
       "      <th>0</th>\n",
       "      <td>100</td>\n",
       "      <td>2881542</td>\n",
       "      <td>223690,2293367,2429887,2881542,3425094,4869428</td>\n",
       "      <td>NaN</td>\n",
       "      <td>1029459,2429887,2881542,2951233,3002561,373861...</td>\n",
       "    </tr>\n",
       "    <tr>\n",
       "      <th>1</th>\n",
       "      <td>1000</td>\n",
       "      <td>3579754</td>\n",
       "      <td>1051370</td>\n",
       "      <td>1051370,1879194</td>\n",
       "      <td>NaN</td>\n",
       "    </tr>\n",
       "    <tr>\n",
       "      <th>2</th>\n",
       "      <td>1001000</td>\n",
       "      <td>3607361</td>\n",
       "      <td>1464116,4145813</td>\n",
       "      <td>4801426</td>\n",
       "      <td>NaN</td>\n",
       "    </tr>\n",
       "    <tr>\n",
       "      <th>3</th>\n",
       "      <td>1001500</td>\n",
       "      <td>883960</td>\n",
       "      <td>NaN</td>\n",
       "      <td>NaN</td>\n",
       "      <td>NaN</td>\n",
       "    </tr>\n",
       "    <tr>\n",
       "      <th>4</th>\n",
       "      <td>1001700</td>\n",
       "      <td>4145813</td>\n",
       "      <td>2924150</td>\n",
       "      <td>3607361,4050612</td>\n",
       "      <td>2532699,2924150</td>\n",
       "    </tr>\n",
       "  </tbody>\n",
       "</table>\n",
       "</div>"
      ],
      "text/plain": [
       "    UserID MostPvCatogory                                 MostFavCatogory  \\\n",
       "0      100        2881542  223690,2293367,2429887,2881542,3425094,4869428   \n",
       "1     1000        3579754                                         1051370   \n",
       "2  1001000        3607361                                 1464116,4145813   \n",
       "3  1001500         883960                                             NaN   \n",
       "4  1001700        4145813                                         2924150   \n",
       "\n",
       "  MostCartCatogory                                    MostBuyCatogory  \n",
       "0              NaN  1029459,2429887,2881542,2951233,3002561,373861...  \n",
       "1  1051370,1879194                                                NaN  \n",
       "2          4801426                                                NaN  \n",
       "3              NaN                                                NaN  \n",
       "4  3607361,4050612                                    2532699,2924150  "
      ]
     },
     "execution_count": 66,
     "metadata": {},
     "output_type": "execute_result"
    }
   ],
   "source": [
    "#把用户行为根据天数分割\n",
    "day_pv_count = df_Second[df_Second['BehaviorType']=='pv'].groupby(by='date').count()\n",
    "day_fav_count = df_Second[df_Second['BehaviorType']=='fav'].groupby(by='date').count()\n",
    "day_cart_count = df_Second[df_Second['BehaviorType']=='cart'].groupby(by='date').count()\n",
    "day_buy_count = df_Second[df_Second['BehaviorType']=='buy'].groupby(by='date').count()\n",
    "\n",
    "plt.figure(figsize=(12,6))\n",
    "plt.plot(list(day_pv_count['BehaviorType'].index),list(day_pv_count['BehaviorType'].values),linestyle='--',color='black')\n",
    "plt.plot(list(day_fav_count['BehaviorType'].index),list(day_fav_count['BehaviorType'].values),linestyle='--',color='blue')\n",
    "plt.plot(list(day_cart_count['BehaviorType'].index),list(day_cart_count['BehaviorType'].values),linestyle='--',color='green')\n",
    "plt.plot(list(day_buy_count['BehaviorType'].index),list(day_buy_count['BehaviorType'].values),linestyle='--',color='red')\n",
    "plt.xticks(rotation=45)\n",
    "plt.show()\n",
    "\n",
    "plt.figure(figsize=(12,6))\n",
    "plt.plot(list(day_fav_count['BehaviorType'].index),list(day_fav_count['BehaviorType'].values),linestyle='--',color='blue')\n",
    "plt.plot(list(day_cart_count['BehaviorType'].index),list(day_cart_count['BehaviorType'].values),linestyle='--',color='green')\n",
    "plt.plot(list(day_buy_count['BehaviorType'].index),list(day_buy_count['BehaviorType'].values),linestyle='--',color='red')\n",
    "plt.xticks(rotation=45)\n",
    "plt.show()\n",
    "#把用户行为根据时间分割，第二张图不包括点击量的数据\n",
    "day_pv_count = df_Second[df_Second['BehaviorType']=='pv'].groupby(by='hour').count()\n",
    "day_fav_count = df_Second[df_Second['BehaviorType']=='fav'].groupby(by='hour').count()\n",
    "day_cart_count = df_Second[df_Second['BehaviorType']=='cart'].groupby(by='hour').count()\n",
    "day_buy_count = df_Second[df_Second['BehaviorType']=='buy'].groupby(by='hour').count()\n",
    "\n",
    "plt.figure(figsize=(12,6))\n",
    "plt.plot(list(day_pv_count['BehaviorType'].index),list(day_pv_count['BehaviorType'].values),linestyle='--',color='black')\n",
    "plt.plot(list(day_fav_count['BehaviorType'].index),list(day_fav_count['BehaviorType'].values),linestyle='--',color='blue')\n",
    "plt.plot(list(day_cart_count['BehaviorType'].index),list(day_cart_count['BehaviorType'].values),linestyle='--',color='green')\n",
    "plt.plot(list(day_buy_count['BehaviorType'].index),list(day_buy_count['BehaviorType'].values),linestyle='--',color='red')\n",
    "plt.xticks(rotation=45)\n",
    "plt.show()\n",
    "\n",
    "plt.figure(figsize=(12,6))\n",
    "plt.plot(list(day_fav_count['BehaviorType'].index),list(day_fav_count['BehaviorType'].values),linestyle='--',color='blue')\n",
    "plt.plot(list(day_cart_count['BehaviorType'].index),list(day_cart_count['BehaviorType'].values),linestyle='--',color='green')\n",
    "plt.plot(list(day_buy_count['BehaviorType'].index),list(day_buy_count['BehaviorType'].values),linestyle='--',color='red')\n",
    "plt.xticks(rotation=45)\n",
    "plt.show()\n",
    "#提取每个用户的浏览，收藏，加购物车，购买数据，第二张图不包括浏览的数据\n",
    "\n",
    "df_user = df_Second['UserID'].drop_duplicates()\n",
    "df_pv = df_Second.loc[df_Second['BehaviorType']=='pv',['UserID','ItemID', 'CatogoryID']]\n",
    "df_fav = df_Second.loc[df_Second['BehaviorType']=='fav',['UserID','ItemID', 'CatogoryID']]\n",
    "df_cart = df_Second.loc[df_Second['BehaviorType']=='cart',['UserID','ItemID', 'CatogoryID']]\n",
    "df_buy = df_Second.loc[df_Second['BehaviorType']=='buy',['UserID','ItemID', 'CatogoryID']]\n",
    "#把每个用户最多浏览的商品类数据整理出来\n",
    "\n",
    "df_pv_count = df_pv.groupby(['UserID','CatogoryID']).ItemID.count().reset_index()\n",
    "df_pv_count.rename(columns={'ItemID':'CatogoryCounts'},inplace=True)\n",
    "df_pv_max = df_pv_count.groupby('UserID').CatogoryCounts.max().reset_index()\n",
    "df_pv_max.rename(columns={'CatogoryCounts':'FavoriteCatogory'},inplace=True)\n",
    "df_pv_count= pd.merge(df_pv_count,df_pv_max,how='left',on='UserID')\n",
    "df_pv_count['CatogoryID']=df_pv_count['CatogoryID'].astype(str)\n",
    "df_pv = df_pv_count.loc[df_pv_count['CatogoryCounts']==df_pv_count['FavoriteCatogory'],'CatogoryID'].groupby(df_pv_count['UserID']).aggregate(lambda x:','.join(x)).reset_index()\n",
    "df_user = pd.merge(df_user,df_pv,how='left',on='UserID')\n",
    "df_user.rename(columns={'CatogoryID':'MostPvCatogory'},inplace=True)\n",
    "#把每个用户最多加购物车的商品类数据整理出来\n",
    "\n",
    "df_fav_count = df_fav.groupby(['UserID','CatogoryID']).ItemID.count().reset_index()\n",
    "df_fav_count.rename(columns={'ItemID':'CatogoryCounts'},inplace=True)\n",
    "df_fav_max = df_fav_count.groupby('UserID').CatogoryCounts.max().reset_index()\n",
    "df_fav_max.rename(columns={'CatogoryCounts':'FavoriteCatogory'},inplace=True)\n",
    "df_fav_count= pd.merge(df_fav_count,df_fav_max,how='left',on='UserID')\n",
    "df_fav_count['CatogoryID']=df_fav_count['CatogoryID'].astype(str)\n",
    "df_fav = df_fav_count.loc[df_fav_count['CatogoryCounts']==df_fav_count['FavoriteCatogory'],'CatogoryID'].groupby(df_fav_count['UserID']).aggregate(lambda x:','.join(x)).reset_index()\n",
    "df_user = pd.merge(df_user,df_fav,how='left',on='UserID')\n",
    "df_user.rename(columns={'CatogoryID':'MostFavCatogory'},inplace=True)\n",
    "#把每个用户最多收藏的商品类数据整理出来\n",
    "\n",
    "df_cart_count = df_cart.groupby(['UserID','CatogoryID']).ItemID.count().reset_index()\n",
    "df_cart_count.rename(columns={'ItemID':'CatogoryCounts'},inplace=True)\n",
    "df_cart_max = df_cart_count.groupby('UserID').CatogoryCounts.max().reset_index()\n",
    "df_cart_max.rename(columns={'CatogoryCounts':'FavoriteCatogory'},inplace=True)\n",
    "df_cart_count= pd.merge(df_cart_count,df_cart_max,how='left',on='UserID')\n",
    "df_cart_count['CatogoryID']=df_cart_count['CatogoryID'].astype(str)\n",
    "df_cart = df_cart_count.loc[df_cart_count['CatogoryCounts']==df_cart_count['FavoriteCatogory'],'CatogoryID'].groupby(df_cart_count['UserID']).aggregate(lambda x:','.join(x)).reset_index()\n",
    "df_user = pd.merge(df_user,df_cart,how='left',on='UserID')\n",
    "df_user.rename(columns={'CatogoryID':'MostCartCatogory'},inplace=True)\n",
    "#把每个用户最多购买的商品类数据整理出来\n",
    "\n",
    "df_buy_count = df_buy.groupby(['UserID','CatogoryID']).ItemID.count().reset_index()\n",
    "df_buy_count.rename(columns={'ItemID':'CatogoryCounts'},inplace=True)\n",
    "df_buy_max = df_buy_count.groupby('UserID').CatogoryCounts.max().reset_index()\n",
    "df_buy_max.rename(columns={'CatogoryCounts':'FavoriteCatogory'},inplace=True)\n",
    "df_buy_count= pd.merge(df_buy_count,df_buy_max,how='left',on='UserID')\n",
    "df_buy_count['CatogoryID']=df_buy_count['CatogoryID'].astype(str)\n",
    "df_buy = df_buy_count.loc[df_buy_count['CatogoryCounts']==df_buy_count['FavoriteCatogory'],'CatogoryID'].groupby(df_buy_count['UserID']).aggregate(lambda x:','.join(x)).reset_index()\n",
    "df_user = pd.merge(df_user,df_buy,how='left',on='UserID')\n",
    "df_user.rename(columns={'CatogoryID':'MostBuyCatogory'},inplace=True)\n",
    "df_user.fillna(0)\n",
    "#填充空值为0\n",
    "df_user.head()"
   ]
  },
  {
   "cell_type": "markdown",
   "metadata": {
    "collapsed": false,
    "pycharm": {
     "name": "#%% md\n"
    }
   },
   "source": [
    "# 7.用户总体推荐"
   ]
  },
  {
   "cell_type": "code",
   "execution_count": 67,
   "metadata": {
    "collapsed": false,
    "pycharm": {
     "name": "#%%\n"
    }
   },
   "outputs": [
    {
     "data": {
      "text/html": [
       "<div>\n",
       "<style scoped>\n",
       "    .dataframe tbody tr th:only-of-type {\n",
       "        vertical-align: middle;\n",
       "    }\n",
       "\n",
       "    .dataframe tbody tr th {\n",
       "        vertical-align: top;\n",
       "    }\n",
       "\n",
       "    .dataframe thead th {\n",
       "        text-align: right;\n",
       "    }\n",
       "</style>\n",
       "<table border=\"1\" class=\"dataframe\">\n",
       "  <thead>\n",
       "    <tr style=\"text-align: right;\">\n",
       "      <th></th>\n",
       "      <th>UserID</th>\n",
       "      <th>MostPvCatogory</th>\n",
       "      <th>MostFavCatogory</th>\n",
       "      <th>MostCartCatogory</th>\n",
       "      <th>MostBuyCatogory</th>\n",
       "      <th>UserCategory</th>\n",
       "    </tr>\n",
       "  </thead>\n",
       "  <tbody>\n",
       "    <tr>\n",
       "      <th>0</th>\n",
       "      <td>100</td>\n",
       "      <td>2881542</td>\n",
       "      <td>223690,2293367,2429887,2881542,3425094,4869428</td>\n",
       "      <td>NaN</td>\n",
       "      <td>1029459,2429887,2881542,2951233,3002561,373861...</td>\n",
       "      <td>重要发展用户</td>\n",
       "    </tr>\n",
       "    <tr>\n",
       "      <th>1</th>\n",
       "      <td>1000</td>\n",
       "      <td>3579754</td>\n",
       "      <td>1051370</td>\n",
       "      <td>1051370,1879194</td>\n",
       "      <td>NaN</td>\n",
       "      <td>重要发展用户</td>\n",
       "    </tr>\n",
       "    <tr>\n",
       "      <th>2</th>\n",
       "      <td>1001000</td>\n",
       "      <td>3607361</td>\n",
       "      <td>1464116,4145813</td>\n",
       "      <td>4801426</td>\n",
       "      <td>NaN</td>\n",
       "      <td>重要发展用户</td>\n",
       "    </tr>\n",
       "    <tr>\n",
       "      <th>3</th>\n",
       "      <td>1001500</td>\n",
       "      <td>883960</td>\n",
       "      <td>NaN</td>\n",
       "      <td>NaN</td>\n",
       "      <td>NaN</td>\n",
       "      <td>重要发展用户</td>\n",
       "    </tr>\n",
       "    <tr>\n",
       "      <th>4</th>\n",
       "      <td>1001700</td>\n",
       "      <td>4145813</td>\n",
       "      <td>2924150</td>\n",
       "      <td>3607361,4050612</td>\n",
       "      <td>2532699,2924150</td>\n",
       "      <td>重要发展用户</td>\n",
       "    </tr>\n",
       "  </tbody>\n",
       "</table>\n",
       "</div>"
      ],
      "text/plain": [
       "    UserID MostPvCatogory                                 MostFavCatogory  \\\n",
       "0      100        2881542  223690,2293367,2429887,2881542,3425094,4869428   \n",
       "1     1000        3579754                                         1051370   \n",
       "2  1001000        3607361                                 1464116,4145813   \n",
       "3  1001500         883960                                             NaN   \n",
       "4  1001700        4145813                                         2924150   \n",
       "\n",
       "  MostCartCatogory                                    MostBuyCatogory  \\\n",
       "0              NaN  1029459,2429887,2881542,2951233,3002561,373861...   \n",
       "1  1051370,1879194                                                NaN   \n",
       "2          4801426                                                NaN   \n",
       "3              NaN                                                NaN   \n",
       "4  3607361,4050612                                    2532699,2924150   \n",
       "\n",
       "  UserCategory  \n",
       "0       重要发展用户  \n",
       "1       重要发展用户  \n",
       "2       重要发展用户  \n",
       "3       重要发展用户  \n",
       "4       重要发展用户  "
      ]
     },
     "execution_count": 67,
     "metadata": {},
     "output_type": "execute_result"
    }
   ],
   "source": [
    "def R(t):\n",
    "    if t in [0,1,2]:\n",
    "        return 4\n",
    "    elif t in [3,4]:\n",
    "        return 3\n",
    "    elif t in [5,6]:\n",
    "        return 2\n",
    "    else:\n",
    "        return 1\n",
    "\n",
    "def F(n):\n",
    "    if n == 1:\n",
    "        return 1\n",
    "    elif n == 2:\n",
    "        return 2\n",
    "    elif n == 3:\n",
    "        return 3\n",
    "    else:\n",
    "        return 4\n",
    "\n",
    "df_buy_1 = df_Second[df_Second['BehaviorType']=='buy']\n",
    "Near_buy_tstamp = df_buy_1.groupby(by='UserID')['TimeStamps'].max() #得出用户最近购买时间\n",
    "df_buy_1 = pd.DataFrame(data=Near_buy_tstamp)\n",
    "diff_time = (endTime - Near_buy_tstamp).astype('int') #用户最近购买时间距离结束时间长短\n",
    "diff_day = (diff_time/(24*60*60)).astype('int')\n",
    "df_Second['diffDay'] = diff_day\n",
    "df_Second['R'] = df_Second['diffDay'].apply(R)\n",
    "df_Second.drop(labels=['diffDay'],axis=1,inplace=True)\n",
    "\n",
    "\n",
    "df_Second['Frequency'] = df_Second['UserID'].value_counts().astype('int')\n",
    "df_Second['F'] = df_Second['Frequency'].apply(F)\n",
    "df_Second.drop(labels=['Frequency'],axis=1,inplace=True)\n",
    "\n",
    "\n",
    "df_Second['UserCategory'] = np.select([(df_Second['R']>2.75)&(df_Second['F']>1.02),(df_Second['R']>2.75)&(df_Second['F']<=1.02),\n",
    "          (df_Second['R']<=2.75)&(df_Second['F']>1.02),(df_Second['R']<2.75)&(df_Second['F']<=1.02)],\n",
    "         ['重要价值用户','重要保持用户','重要发展用户','一般价值用户'])\n",
    "\n",
    "df_user_level = df_Second[['UserID', 'UserCategory']].drop_duplicates(subset=['UserID'])\n",
    "\n",
    "df_user = pd.merge(df_user,df_user_level,how='left',on='UserID')\n",
    "df_user.head()\n",
    "\n"
   ]
  },
  {
   "cell_type": "code",
   "execution_count": 67,
   "metadata": {},
   "outputs": [],
   "source": []
  },
  {
   "cell_type": "markdown",
   "metadata": {},
   "source": [
    "# 8.用户操作时间差分析"
   ]
  },
  {
   "cell_type": "code",
   "execution_count": 151,
   "metadata": {},
   "outputs": [
    {
     "name": "stdout",
     "output_type": "stream",
     "text": [
      "所有商品从加入购物车到被买下的平均时间 109169 s\n"
     ]
    }
   ],
   "source": [
    "# find the avarage time to buy items from cart to buy\n",
    "df_pv = df_Second.loc[df_Second['BehaviorType']=='pv',['UserID','ItemID','TimeStamps']]\n",
    "df_fav = df_Second.loc[df_Second['BehaviorType']=='fav',['UserID','ItemID','TimeStamps']]\n",
    "df_cart = df_Second.loc[df_Second['BehaviorType']=='cart',['UserID','ItemID','TimeStamps']]\n",
    "df_buy = df_Second.loc[df_Second['BehaviorType']=='buy',['UserID','ItemID','TimeStamps']]\n",
    "\n",
    "buy_cart=pd.merge(df_cart,df_buy,how='inner',on=['UserID','ItemID'],suffixes=('_cart','_buy'))\n",
    "buy_cart[\"time\"]=buy_cart[\"TimeStamps_buy\"]-buy_cart[\"TimeStamps_cart\"]\n",
    "\n",
    "buy_cart_time = buy_cart.loc[buy_cart['time']>0,'time'].mean()\n",
    "print(\"所有商品从加入购物车到被买下的平均时间\",int(buy_cart_time),\"s\")\n"
   ]
  },
  {
   "cell_type": "code",
   "execution_count": 152,
   "metadata": {},
   "outputs": [
    {
     "name": "stdout",
     "output_type": "stream",
     "text": [
      "所有商品从浏览到被买下的平均时间 60237 s\n"
     ]
    }
   ],
   "source": [
    "# find the avarage time to buy items from pv to buy\n",
    "df_pv = df_Second.loc[df_Second['BehaviorType']=='pv',['UserID','ItemID','TimeStamps']]\n",
    "df_fav = df_Second.loc[df_Second['BehaviorType']=='fav',['UserID','ItemID','TimeStamps']]\n",
    "df_cart = df_Second.loc[df_Second['BehaviorType']=='cart',['UserID','ItemID','TimeStamps']]\n",
    "df_buy = df_Second.loc[df_Second['BehaviorType']=='buy',['UserID','ItemID','TimeStamps']]\n",
    "\n",
    "df_pv=df_pv.groupby(['UserID','ItemID']).TimeStamps.min().reset_index().rename(columns={'TimeStamps':'TimeStamps'})\n",
    "buy_pv=pd.merge(df_pv,df_buy,how='inner',on=['UserID','ItemID'],suffixes=('_pv','_buy'))\n",
    "buy_pv[\"time\"]=buy_pv[\"TimeStamps_buy\"]-buy_pv[\"TimeStamps_pv\"]\n",
    "buy_pv_time = buy_pv.loc[buy_pv['time']>0,'time'].mean()\n",
    "print(\"所有商品从第一次浏览到被买下的平均时间\",int(buy_pv_time),\"s\")\n"
   ]
  },
  {
   "cell_type": "code",
   "execution_count": 69,
   "metadata": {},
   "outputs": [],
   "source": []
  }
 ],
 "metadata": {
  "interpreter": {
   "hash": "b3ba2566441a7c06988d0923437866b63cedc61552a5af99d1f4fb67d367b25f"
  },
  "kernelspec": {
   "display_name": "Python 3.9.7 ('base')",
   "language": "python",
   "name": "python3"
  },
  "language_info": {
   "codemirror_mode": {
    "name": "ipython",
    "version": 3
   },
   "file_extension": ".py",
   "mimetype": "text/x-python",
   "name": "python",
   "nbconvert_exporter": "python",
   "pygments_lexer": "ipython3",
   "version": "3.9.7"
  },
  "orig_nbformat": 4
 },
 "nbformat": 4,
 "nbformat_minor": 2
}
